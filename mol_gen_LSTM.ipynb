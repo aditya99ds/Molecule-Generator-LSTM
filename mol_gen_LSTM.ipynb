{
 "cells": [
  {
   "cell_type": "code",
   "execution_count": 63,
   "metadata": {},
   "outputs": [],
   "source": [
    "import selfies as sf\n",
    "import pandas as pd\n",
    "import numpy as np\n",
    "import torch\n",
    "from torch.utils.data import Dataset, DataLoader\n",
    "import matplotlib.pyplot as plt\n",
    "import rdkit, rdkit.Chem, rdkit.Chem.Draw\n",
    "\n",
    "import torch.nn as nn\n",
    "import torch.nn.functional as F\n",
    "\n",
    "from sklearn.metrics import accuracy_score\n",
    "import Levenshtein\n",
    "\n",
    "from tqdm import tqdm"
   ]
  },
  {
   "cell_type": "code",
   "execution_count": 2,
   "metadata": {},
   "outputs": [
    {
     "name": "stdout",
     "output_type": "stream",
     "text": [
      "Total data size 249455\n"
     ]
    },
    {
     "data": {
      "text/html": [
       "<div>\n",
       "<style scoped>\n",
       "    .dataframe tbody tr th:only-of-type {\n",
       "        vertical-align: middle;\n",
       "    }\n",
       "\n",
       "    .dataframe tbody tr th {\n",
       "        vertical-align: top;\n",
       "    }\n",
       "\n",
       "    .dataframe thead th {\n",
       "        text-align: right;\n",
       "    }\n",
       "</style>\n",
       "<table border=\"1\" class=\"dataframe\">\n",
       "  <thead>\n",
       "    <tr style=\"text-align: right;\">\n",
       "      <th></th>\n",
       "      <th>CC(C)(C)c1ccc2occ(CC(=O)Nc3ccccc3F)c2c1</th>\n",
       "    </tr>\n",
       "  </thead>\n",
       "  <tbody>\n",
       "    <tr>\n",
       "      <th>0</th>\n",
       "      <td>C[C@@H]1CC(Nc2cncc(-c3nncn3C)c2)C[C@@H](C)C1</td>\n",
       "    </tr>\n",
       "    <tr>\n",
       "      <th>1</th>\n",
       "      <td>N#Cc1ccc(-c2ccc(O[C@@H](C(=O)N3CCCC3)c3ccccc3)...</td>\n",
       "    </tr>\n",
       "    <tr>\n",
       "      <th>2</th>\n",
       "      <td>CCOC(=O)[C@@H]1CCCN(C(=O)c2nc(-c3ccc(C)cc3)n3c...</td>\n",
       "    </tr>\n",
       "    <tr>\n",
       "      <th>3</th>\n",
       "      <td>N#CC1=C(SCC(=O)Nc2cccc(Cl)c2)N=C([O-])[C@H](C#...</td>\n",
       "    </tr>\n",
       "    <tr>\n",
       "      <th>4</th>\n",
       "      <td>CC[NH+](CC)[C@](C)(CC)[C@H](O)c1cscc1Br</td>\n",
       "    </tr>\n",
       "  </tbody>\n",
       "</table>\n",
       "</div>"
      ],
      "text/plain": [
       "             CC(C)(C)c1ccc2occ(CC(=O)Nc3ccccc3F)c2c1\n",
       "0       C[C@@H]1CC(Nc2cncc(-c3nncn3C)c2)C[C@@H](C)C1\n",
       "1  N#Cc1ccc(-c2ccc(O[C@@H](C(=O)N3CCCC3)c3ccccc3)...\n",
       "2  CCOC(=O)[C@@H]1CCCN(C(=O)c2nc(-c3ccc(C)cc3)n3c...\n",
       "3  N#CC1=C(SCC(=O)Nc2cccc(Cl)c2)N=C([O-])[C@H](C#...\n",
       "4            CC[NH+](CC)[C@](C)(CC)[C@H](O)c1cscc1Br"
      ]
     },
     "execution_count": 2,
     "metadata": {},
     "output_type": "execute_result"
    }
   ],
   "source": [
    "# reading data\n",
    "dataset_full = pd.read_csv(r'D:\\projects\\LSTM mol gen\\dataJ_250k_rndm_zinc_drugs_clean.txt')\n",
    "print(\"Total data size\", len(dataset_full))\n",
    "dataset_full.head()\n"
   ]
  },
  {
   "cell_type": "code",
   "execution_count": 3,
   "metadata": {},
   "outputs": [],
   "source": [
    "# smiles to selfies\n",
    "selfies_list = [sf.encoder(s) for s in dataset_full.iloc[:, 0]]"
   ]
  },
  {
   "cell_type": "code",
   "execution_count": 4,
   "metadata": {},
   "outputs": [
    {
     "name": "stdout",
     "output_type": "stream",
     "text": [
      "[C][C@@H1][C][C][Branch2][Ring1][Ring2][N][C][=C][N][=C][C][Branch1][=Branch2][C][=N][N][=C][N][Ring1][Branch1][C][=C][Ring1][N][C][C@@H1][Branch1][C][C][C][Ring2][Ring1][Ring2]\n"
     ]
    }
   ],
   "source": [
    "print(selfies_list[0])"
   ]
  },
  {
   "cell_type": "code",
   "execution_count": 5,
   "metadata": {},
   "outputs": [
    {
     "name": "stdout",
     "output_type": "stream",
     "text": [
      "[C] 3533632\n",
      "[=C] 1124758\n",
      "[Ring1] 858765\n",
      "[Branch1] 621080\n",
      "[=Branch1] 523631\n",
      "[N] 508933\n",
      "[=O] 318168\n",
      "[O] 279513\n",
      "[Branch2] 202232\n",
      "[Ring2] 177924\n"
     ]
    }
   ],
   "source": [
    "#parsing to create vocab\n",
    "selfies_symbol_count = {\"[nop]\": 0}\n",
    "\n",
    "def parse(s):\n",
    "    for si in s.split(\"[\")[1:]:\n",
    "        token = \"[\" + si\n",
    "        if token in selfies_symbol_count:\n",
    "            selfies_symbol_count[token] += 1\n",
    "        else:\n",
    "            selfies_symbol_count[token] = 0\n",
    "            \n",
    "[parse(s) for s in selfies_list]\n",
    "\n",
    "sorted_token_count = list(sorted(selfies_symbol_count.items(), key=lambda i: -i[1]))\n",
    "for t in sorted_token_count[:10]:\n",
    "    print(*t)"
   ]
  },
  {
   "cell_type": "code",
   "execution_count": 6,
   "metadata": {},
   "outputs": [
    {
     "name": "stdout",
     "output_type": "stream",
     "text": [
      "selfies : [C][C@@H1][C][C][Branch2][Ring1][Ring2][N][C][=C][N][=C][C][Branch1][=Branch2][C][=N][N][=C][N][Ring1][Branch1][C][=C][Ring1][N][C][C@@H1][Branch1][C][C][C][Ring2][Ring1][Ring2]\n",
      "selfies2index [1, 2, 1, 1, 3, 4, 5, 6, 1, 7, 6, 7, 1, 8, 9, 1, 10, 6, 7, 6, 4, 8, 1, 7, 4, 6, 1, 2, 8, 1, 1, 1, 5, 4, 5]\n",
      "index2selfies [C][C@@H1][C][C][Branch2][Ring1][Ring2][N][C][=C][N][=C][C][Branch1][=Branch2][C][=N][N][=C][N][Ring1][Branch1][C][=C][Ring1][N][C][C@@H1][Branch1][C][C][C][Ring2][Ring1][Ring2]\n"
     ]
    }
   ],
   "source": [
    "# dictionary of vocab and index\n",
    "vocab = list(selfies_symbol_count.keys())\n",
    "vocab_stoi = {o: i for o, i in zip(vocab, range(len(vocab)))}\n",
    "\n",
    "# selfies to index \n",
    "def selfies2index(s):\n",
    "    result = []\n",
    "    for si in s.split(\"[\")[1:]:\n",
    "        result.append(vocab_stoi[\"[\" + si])\n",
    "    return result   \n",
    "\n",
    "# index back to selfies\n",
    "def index2selfies(v):\n",
    "    return \"\".join([vocab[i] for i in v])\n",
    "\n",
    "\n",
    "#testing conversions\n",
    "s = selfies_list[0]\n",
    "print(\"selfies :\", s)\n",
    "v = selfies2index(s)\n",
    "print(\"selfies2index\", v)\n",
    "so = index2selfies(v)\n",
    "print(\"index2selfies\", so)"
   ]
  },
  {
   "cell_type": "code",
   "execution_count": 7,
   "metadata": {},
   "outputs": [
    {
     "name": "stdout",
     "output_type": "stream",
     "text": [
      "108\n",
      "['[nop]', '[C]', '[C@@H1]', '[Branch2]', '[Ring1]', '[Ring2]', '[N]', '[=C]', '[Branch1]', '[=Branch2]', '[=N]', '[#C]', '[O]', '[=Branch1]', '[=O]', '[S]', '[#Branch1]', '[=Ring1]', '[Cl]', '[O-1]', '[C@H1]', '[#N]', '[NH1+1]', '[C@]', '[Br]', '[/C]', '[/O]', '[P]', '[NH1]', '[F]', '[=Ring2]', '[NH3+1]', '[#Branch2]', '[=S]', '[NH2+1]', '[C@@]', '[=N+1]', '[=NH1+1]', '[N+1]', '[\\\\C]', '[\\\\O]', '[/N]', '[/S]', '[\\\\S]', '[S@]', '[\\\\O-1]', '[N-1]', '[/NH1+1]', '[S@@]', '[=NH2+1]', '[/O-1]', '[S-1]', '[/S-1]', '[I]', '[\\\\N]', '[\\\\Cl]', '[=P]', '[/F]', '[/C@H1]', '[=OH1+1]', '[\\\\S-1]', '[=S@@]', '[/C@@H1]', '[=S@]', '[\\\\C@@H1]', '[/S@]', '[/Cl]', '[=N-1]', '[/N+1]', '[NH1-1]', '[\\\\NH1]', '[\\\\C@H1]', '[P@@H1]', '[P@@]', '[\\\\N-1]', '[-\\\\Ring1]', '[=P@@]', '[/NH1]', '[=PH2]', '[#N+1]', '[\\\\NH1+1]', '[P@]', '[P+1]', '[\\\\N+1]', '[-/Ring1]', '[S+1]', '[=O+1]', '[/N-1]', '[CH2-1]', '[=P@]', '[CH1-1]', '[=SH1+1]', '[/Br]', '[/C@@]', '[\\\\Br]', '[/C@]', '[/O+1]', '[=S+1]', '[\\\\F]', '[-/Ring2]', '[PH1+1]', '[/NH2+1]', '[PH1]', '[\\\\NH2+1]', '[/NH1-1]', '[\\\\S@]', '[S@@+1]', '[\\\\I]']\n"
     ]
    }
   ],
   "source": [
    "print(len(vocab))\n",
    "print(vocab)"
   ]
  },
  {
   "cell_type": "code",
   "execution_count": 8,
   "metadata": {},
   "outputs": [],
   "source": [
    "# pre-processing sequences\n",
    "encoded_sequences = []\n",
    "for seq in selfies_list:\n",
    "    torch_tensor = torch.tensor(selfies2index(seq))\n",
    "    encoded_sequences.append(torch_tensor)\n",
    "    \n",
    "encoded_seqs_sorted = sorted(encoded_sequences, key=lambda x: len(x), reverse=True)\n",
    "padded_seqs = torch.nn.utils.rnn.pad_sequence(encoded_seqs_sorted, batch_first=True, padding_value=0)\n"
   ]
  },
  {
   "cell_type": "code",
   "execution_count": 9,
   "metadata": {},
   "outputs": [
    {
     "name": "stdout",
     "output_type": "stream",
     "text": [
      "Sequence 150489: Length=72, Content=tensor([18,  1,  7,  1,  7, 15,  1,  3,  4,  1,  6,  1,  7,  1,  7,  1, 13,  5,\n",
      "         7,  4, 13, 12,  1,  1, 12,  4, 16, 10,  1,  4, 15,  7,  5,  4,  5,  0,\n",
      "         0,  0,  0,  0,  0,  0,  0,  0,  0,  0,  0,  0,  0,  0,  0,  0,  0,  0,\n",
      "         0,  0,  0,  0,  0,  0,  0,  0,  0,  0,  0,  0,  0,  0,  0,  0,  0,  0])\n",
      "Sequence 69473: Length=72, Content=tensor([12,  7,  8,  1, 19,  1,  6,  1,  1,  8, 16,  1,  1,  1,  4, 13, 14,  1,\n",
      "         1, 22,  8, 15,  1,  1,  7,  1,  7,  8,  1, 18,  1,  8,  1, 29,  7,  4,\n",
      "         3,  1,  1,  5,  4,  4,  0,  0,  0,  0,  0,  0,  0,  0,  0,  0,  0,  0,\n",
      "         0,  0,  0,  0,  0,  0,  0,  0,  0,  0,  0,  0,  0,  0,  0,  0,  0,  0])\n",
      "Sequence 172320: Length=72, Content=tensor([ 1,  1,  1, 12,  6,  7,  8,  1,  1,  1, 17, 13,  6,  1, 13,  1, 14,  6,\n",
      "         1, 20,  1,  1, 12,  1,  7,  1,  7,  1,  7,  4, 13,  4, 32,  0,  0,  0,\n",
      "         0,  0,  0,  0,  0,  0,  0,  0,  0,  0,  0,  0,  0,  0,  0,  0,  0,  0,\n",
      "         0,  0,  0,  0,  0,  0,  0,  0,  0,  0,  0,  0,  0,  0,  0,  0,  0,  0])\n",
      "Sequence 242754: Length=72, Content=tensor([12,  7,  8, 32,  6,  1, 20,  1,  1,  1, 34,  4,  8,  6,  1,  1,  1,  1,\n",
      "         1,  1,  4, 16,  0,  0,  0,  0,  0,  0,  0,  0,  0,  0,  0,  0,  0,  0,\n",
      "         0,  0,  0,  0,  0,  0,  0,  0,  0,  0,  0,  0,  0,  0,  0,  0,  0,  0,\n",
      "         0,  0,  0,  0,  0,  0,  0,  0,  0,  0,  0,  0,  0,  0,  0,  0,  0,  0])\n",
      "Sequence 9568: Length=72, Content=tensor([ 1,  1, 10,  6,  3,  5, 13,  1,  1,  7,  1,  7,  3,  4, 32,  1, 13,  1,\n",
      "        14,  6,  1,  7,  1,  7,  8, 12,  1, 13,  1, 14, 12,  1,  8,  1,  1,  1,\n",
      "         1,  7,  4,  6, 12,  5,  4,  5,  1,  8,  1,  1,  7,  5,  4, 12, 18,  0,\n",
      "         0,  0,  0,  0,  0,  0,  0,  0,  0,  0,  0,  0,  0,  0,  0,  0,  0,  0])\n"
     ]
    }
   ],
   "source": [
    "# test padding \n",
    "import random\n",
    "num_to_select = min(5, len(padded_seqs))\n",
    "random_indices = random.sample(range(len(padded_seqs)), num_to_select)\n",
    "for idx in random_indices:\n",
    "    print(f\"Sequence {idx}: Length={len(padded_seqs[idx])}, Content={padded_seqs[idx]}\")\n"
   ]
  },
  {
   "cell_type": "code",
   "execution_count": 10,
   "metadata": {},
   "outputs": [],
   "source": [
    "# creating dataset\n",
    "\n",
    "class SequenceDataset(Dataset):\n",
    "    def __init__(self, sequences):\n",
    "        self.sequences = sequences\n",
    "\n",
    "    def __len__(self):\n",
    "        return len(self.sequences)\n",
    "\n",
    "    def __getitem__(self, idx):\n",
    "        sequence = self.sequences[idx]\n",
    "        input_text, target_text = self.split_input_target(sequence)\n",
    "        return input_text, target_text\n",
    "\n",
    "    def split_input_target(self, sequence):\n",
    "        if not isinstance(sequence, torch.Tensor):\n",
    "            sequence = torch.tensor(sequence)\n",
    "        input_text = torch.cat((torch.tensor([0]), sequence[:-1]), 0)\n",
    "        target_text = sequence\n",
    "        return input_text, target_text\n",
    "    \n",
    "    \n",
    "dataset = SequenceDataset(padded_seqs)"
   ]
  },
  {
   "cell_type": "code",
   "execution_count": 11,
   "metadata": {},
   "outputs": [],
   "source": [
    "# train / val split\n",
    "\n",
    "train_size = int(0.9 * len(dataset))\n",
    "val_size = len(dataset) - train_size    \n",
    "\n",
    "train_data, val_data = torch.utils.data.random_split(dataset, [train_size, val_size])\n",
    "\n",
    "batch_size = 32\n",
    "\n",
    "train_loader = DataLoader(train_data, \n",
    "                          batch_size=batch_size,\n",
    "                          shuffle=True)\n",
    "val_loader = DataLoader(val_data,\n",
    "                        batch_size=batch_size,\n",
    "                        shuffle=False)"
   ]
  },
  {
   "cell_type": "code",
   "execution_count": 16,
   "metadata": {},
   "outputs": [],
   "source": [
    "#hyperparameters\n",
    "#vocab_size = len(vocab) \n",
    "#embedding_dim = 256  \n",
    "#rnn_units = 128 \n",
    "\n",
    "start_token = 0  \n",
    "max_length = padded_seqs.shape[1]\n",
    "temperature = 0.3\n",
    "\n",
    "learning_rate = 0.001\n",
    "\n",
    "class Config:\n",
    "    vocab_size = len(vocab) \n",
    "    embedding_dim = 512\n",
    "    rnn_units = 256\n",
    "    \n",
    "config = Config()"
   ]
  },
  {
   "cell_type": "code",
   "execution_count": 13,
   "metadata": {},
   "outputs": [],
   "source": [
    "class LSTMModel(nn.Module):\n",
    "    def __init__(self, vocab_size,embedding_dim, rnn_units):\n",
    "        super(LSTMModel, self).__init__()\n",
    "        self.embedding = nn.Embedding(config.vocab_size, config.embedding_dim)\n",
    "        self.lstm = nn.LSTM(config.embedding_dim, config.rnn_units, batch_first=True)\n",
    "        self.fc = nn.Linear(config.rnn_units, config.vocab_size)\n",
    "    \n",
    "    def forward(self, x, hidden):\n",
    "        x = self.embedding(x)\n",
    "        output, hidden = self.lstm(x, hidden)\n",
    "        output = self.fc(output)\n",
    "        return output, hidden\n",
    "\n",
    "    def init_hidden(self, batch_size):\n",
    "        return (torch.zeros(1, batch_size, config.rnn_units).to(device),\n",
    "                torch.zeros(1, batch_size, config.rnn_units).to(device))\n",
    "# Instantiate the model\n",
    "device = torch.device(\"cuda\" if torch.cuda.is_available() else \"cpu\")\n",
    "model = LSTMModel(config.vocab_size, config.embedding_dim, config.rnn_units).to(device)\n",
    "\n",
    "# Define loss and optimizer\n",
    "criterion = nn.CrossEntropyLoss()\n",
    "optimizer = torch.optim.Adam(model.parameters(), lr=learning_rate)"
   ]
  },
  {
   "cell_type": "code",
   "execution_count": 14,
   "metadata": {},
   "outputs": [],
   "source": [
    "def generate_sequence(model, start_token, max_length, temperature):\n",
    "    model.eval()\n",
    "    input_seq = torch.tensor([[start_token]], dtype=torch.long).to(device)\n",
    "    hidden = model.init_hidden(1)\n",
    "    generated_sequence = [start_token]\n",
    "\n",
    "    for _ in range(max_length):\n",
    "        output, hidden = model(input_seq, hidden)\n",
    "        output = output / temperature\n",
    "        probabilities = F.softmax(output[0, -1], dim=-1)\n",
    "        next_token = torch.multinomial(probabilities, 1).item()\n",
    "        generated_sequence.append(next_token)\n",
    "        input_seq = torch.tensor([[next_token]], dtype=torch.long).to(device)\n",
    "        if next_token == start_token:\n",
    "            break\n",
    "    \n",
    "    return generated_sequence"
   ]
  },
  {
   "cell_type": "code",
   "execution_count": 17,
   "metadata": {},
   "outputs": [
    {
     "name": "stderr",
     "output_type": "stream",
     "text": [
      "Training Epoch 1/3: 100%|██████████| 7016/7016 [01:42<00:00, 68.15it/s] \n"
     ]
    },
    {
     "name": "stdout",
     "output_type": "stream",
     "text": [
      "Epoch 1, Training Loss: 0.5525297509801564, Training Levenshtein Distance: 15.195047859996704\n"
     ]
    },
    {
     "name": "stderr",
     "output_type": "stream",
     "text": [
      "Validation Epoch 1/3: 100%|██████████| 780/780 [00:04<00:00, 159.86it/s]\n"
     ]
    },
    {
     "name": "stdout",
     "output_type": "stream",
     "text": [
      "Epoch 1, Validation Loss: 0.4918381431545967, Validation Levenshtein Distance: 14.09805179187044\n"
     ]
    },
    {
     "name": "stderr",
     "output_type": "stream",
     "text": [
      "Training Epoch 2/3: 100%|██████████| 7016/7016 [01:18<00:00, 89.04it/s]\n"
     ]
    },
    {
     "name": "stdout",
     "output_type": "stream",
     "text": [
      "Epoch 2, Training Loss: 0.4686435184005049, Training Levenshtein Distance: 13.572725369584292\n"
     ]
    },
    {
     "name": "stderr",
     "output_type": "stream",
     "text": [
      "Validation Epoch 2/3: 100%|██████████| 780/780 [00:04<00:00, 160.44it/s]\n"
     ]
    },
    {
     "name": "stdout",
     "output_type": "stream",
     "text": [
      "Epoch 2, Validation Loss: 0.4574920707406142, Validation Levenshtein Distance: 13.406037040006414\n"
     ]
    },
    {
     "name": "stderr",
     "output_type": "stream",
     "text": [
      "Training Epoch 3/3: 100%|██████████| 7016/7016 [01:19<00:00, 88.74it/s]\n"
     ]
    },
    {
     "name": "stdout",
     "output_type": "stream",
     "text": [
      "Epoch 3, Training Loss: 0.44520954281822306, Training Levenshtein Distance: 13.023767421350591\n"
     ]
    },
    {
     "name": "stderr",
     "output_type": "stream",
     "text": [
      "Validation Epoch 3/3: 100%|██████████| 780/780 [00:04<00:00, 159.55it/s]"
     ]
    },
    {
     "name": "stdout",
     "output_type": "stream",
     "text": [
      "Epoch 3, Validation Loss: 0.44142563006816765, Validation Levenshtein Distance: 12.932454100857854\n"
     ]
    },
    {
     "name": "stderr",
     "output_type": "stream",
     "text": [
      "\n"
     ]
    }
   ],
   "source": [
    "import Levenshtein\n",
    "\n",
    "def train(model, train_loader, val_loader, criterion, optimizer, epochs, config, device):\n",
    "    for epoch in range(epochs):\n",
    "        model.train()\n",
    "        total_loss = 0\n",
    "        train_edit_distances = []\n",
    "\n",
    "        for inputs, targets in tqdm(train_loader, desc=f\"Training Epoch {epoch+1}/{epochs}\"):\n",
    "            inputs, targets = inputs.to(device), targets.to(device)\n",
    "            optimizer.zero_grad()\n",
    "            hidden = model.init_hidden(inputs.size(0))\n",
    "            outputs, _ = model(inputs, hidden)\n",
    "            loss = criterion(outputs.view(-1, config.vocab_size), targets.view(-1))\n",
    "            loss.backward()\n",
    "            optimizer.step()\n",
    "            total_loss += loss.item()\n",
    "            \n",
    "            # Calculate Levenshtein Distance\n",
    "            predicted = torch.argmax(outputs, dim=-1)\n",
    "            for i in range(len(inputs)):\n",
    "                reference = ''.join(map(str, targets[i].cpu().numpy().tolist()))\n",
    "                candidate = ''.join(map(str, predicted[i].cpu().numpy().tolist()))\n",
    "                edit_distance = Levenshtein.distance(reference, candidate)\n",
    "                train_edit_distances.append(edit_distance)\n",
    "\n",
    "        print(f\"Epoch {epoch+1}, Training Loss: {total_loss / len(train_loader)}, Training Levenshtein Distance: {np.mean(train_edit_distances)}\")\n",
    "\n",
    "        model.eval()\n",
    "        val_loss = 0\n",
    "        val_edit_distances = []\n",
    "        with torch.no_grad():\n",
    "            for inputs, targets in tqdm(val_loader, desc=f\"Validation Epoch {epoch+1}/{epochs}\"):\n",
    "                inputs, targets = inputs.to(device), targets.to(device)\n",
    "                hidden = model.init_hidden(inputs.size(0))\n",
    "                outputs, _ = model(inputs, hidden)\n",
    "                loss = criterion(outputs.view(-1, config.vocab_size), targets.view(-1))\n",
    "                val_loss += loss.item()\n",
    "                \n",
    "                # Calculate Levenshtein Distance\n",
    "                predicted = torch.argmax(outputs, dim=-1)\n",
    "                for i in range(len(inputs)):\n",
    "                    reference = ''.join(map(str, targets[i].cpu().numpy().tolist()))\n",
    "                    candidate = ''.join(map(str, predicted[i].cpu().numpy().tolist()))\n",
    "                    edit_distance = Levenshtein.distance(reference, candidate)\n",
    "                    val_edit_distances.append(edit_distance)\n",
    "        \n",
    "        print(f\"Epoch {epoch+1}, Validation Loss: {val_loss / len(val_loader)}, Validation Levenshtein Distance: {np.mean(val_edit_distances)}\")\n",
    "\n",
    "\n",
    "# Train the model\n",
    "epochs = 3\n",
    "train(model, train_loader, val_loader, criterion, optimizer, epochs, config, device)"
   ]
  },
  {
   "cell_type": "code",
   "execution_count": 18,
   "metadata": {},
   "outputs": [],
   "source": [
    "def draw_mols(example):\n",
    "    example_selfies = index2selfies(example)\n",
    "    exmaple_smiles = sf.decoder(example_selfies)\n",
    "    #from rdkit import rdDepictor\n",
    "    \n",
    "    examples_mol = rdkit.Chem.MolFromSmiles(exmaple_smiles) \n",
    "    return rdkit.Chem.Draw.MolToImage(examples_mol)"
   ]
  },
  {
   "cell_type": "code",
   "execution_count": 41,
   "metadata": {},
   "outputs": [
    {
     "name": "stdout",
     "output_type": "stream",
     "text": [
      "[0, 1, 1, 1, 7, 1, 7, 3, 4, 10, 1, 6, 1, 13, 1, 14, 6, 1, 1, 6, 8, 10, 1, 13, 1, 14, 1, 7, 1, 7, 1, 7, 4, 13, 1, 1, 4, 7, 1, 7, 5, 4, 9, 0]\n"
     ]
    },
    {
     "data": {
      "image/jpeg": "[encoded data removed]",
      "image/png": "[encoded data removed]",
      "text/plain": [
       "<PIL.PngImagePlugin.PngImageFile image mode=RGB size=300x300>"
      ]
     },
     "execution_count": 41,
     "metadata": {},
     "output_type": "execute_result"
    }
   ],
   "source": [
    "# Example usage\n",
    "generated_sequence = generate_sequence(model, start_token, max_length, temperature=temperature)\n",
    "print(generated_sequence)\n",
    "draw_mols(generated_sequence)"
   ]
  },
  {
   "cell_type": "code",
   "execution_count": 44,
   "metadata": {},
   "outputs": [
    {
     "data": {
      "image/png": "[encoded data removed]",
      "text/plain": [
       "<IPython.core.display.Image object>"
      ]
     },
     "execution_count": 44,
     "metadata": {},
     "output_type": "execute_result"
    }
   ],
   "source": [
    "def draw_samples_grid():\n",
    "    samples = []\n",
    "    for i in range(9):\n",
    "        generated_samples = generate_sequence(model, start_token, max_length, temperature=temperature)\n",
    "        samples.append(generated_samples)\n",
    "        \n",
    "    selfies = [index2selfies(x) for x in samples]\n",
    "    smiles = [sf.decoder(y) for y in selfies]   \n",
    "    sample_mols = []\n",
    "    for z in smiles:\n",
    "        mol = rdkit.Chem.MolFromSmiles(z)\n",
    "        sample_mols.append(mol)\n",
    "    return rdkit.Chem.Draw.MolsToGridImage(sample_mols, molsPerRow = 3, subImgSize=(250,250))\n",
    "\n",
    "draw_samples_grid()"
   ]
  }
 ],
 "metadata": {
  "kernelspec": {
   "display_name": "base",
   "language": "python",
   "name": "python3"
  },
  "language_info": {
   "codemirror_mode": {
    "name": "ipython",
    "version": 3
   },
   "file_extension": ".py",
   "mimetype": "text/x-python",
   "name": "python",
   "nbconvert_exporter": "python",
   "pygments_lexer": "ipython3",
   "version": "3.12.3"
  }
 },
 "nbformat": 4,
 "nbformat_minor": 2
}
